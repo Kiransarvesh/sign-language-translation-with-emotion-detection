{
 "cells": [
  {
   "cell_type": "code",
   "execution_count": null,
   "id": "53da0791-82e0-4123-9f72-87b43b0a7c4c",
   "metadata": {},
   "outputs": [],
   "source": [
    "import os\n",
    "import cv2\n",
    "import numpy as np\n",
    "import mediapipe as mp\n",
    "\n",
    "mp_holistic = mp.solutions.holistic  # MediaPipe holistic model\n",
    "mp_drawing = mp.solutions.drawing_utils\n",
    "\n",
    "# Function to extract keypoints\n",
    "def extract_keypoints(results):\n",
    "    pose=np.array([[res.x,res.y,res.z,res.visibility] for res in results.pose_landmarks.landmark]).flatten() if results.pose_landmarks else np.zeros(33*4)\n",
    "    lh=np.array([[res.x,res.y,res.z] for res in results.left_hand_landmarks.landmark]).flatten() if results.left_hand_landmarks else np.zeros(21*3)\n",
    "    rh=np.array([[res.x,res.y,res.z] for res in results.right_hand_landmarks.landmark]).flatten() if results.right_hand_landmarks else np.zeros(21*3)\n",
    "    #face=np.array([[res.x,res.y,res.z] for res in results.face_landmarks.landmark]).flatten() if results.face_landmarks else np.zeros(468*3)\n",
    "    return np.concatenate([pose,lh,rh])\n",
    "\n",
    "def mediapipe_detection(image, model):\n",
    "    # so opencv reads the image in form of bgr but for detection using mediapipe we require the format to be RGB\n",
    "    # so cv2.cvtcolor helps in recolouring the image\n",
    "    image = cv2.cvtColor(image, cv2.COLOR_BGR2RGB) # COLOR CONVERSION BGR 2 RGB\n",
    "    image.flags.writeable = False                  # Image is no longer writeable this helps us in saving a bit of memory\n",
    "    # so here image is going to be a frame from video\n",
    "    results = model.process(image)                 # Make prediction\n",
    "    image.flags.writeable = True                   # Image is now writeable \n",
    "    # so that opencv can produce results in bgr format\n",
    "    image = cv2.cvtColor(image, cv2.COLOR_RGB2BGR) # COLOR COVERSION RGB 2 BGR\n",
    "    return image, results\n",
    "mp_holistic = mp.solutions.holistic # Holistic model\n",
    "# used for drawing the utilities - points and structure from the midiapipe which is its main function through .drawing_utils\n",
    "mp_drawing = mp.solutions.drawing_utils # Drawing utilities\n",
    "# Paths\n",
    "IMAGE_PATH = \"finaldataset/train\"  # Folder containing class folders\n",
    "SAVE_PATH = \"keypoints_data\"\n",
    "os.makedirs(SAVE_PATH, exist_ok=True)\n",
    "\n",
    "# Initialize holistic model\n",
    "with mp_holistic.Holistic(min_detection_confidence=0.5, min_tracking_confidence=0.5) as holistic:\n",
    "    for class_name in os.listdir(IMAGE_PATH):  # Each folder is a class\n",
    "        class_path = os.path.join(IMAGE_PATH, class_name)\n",
    "        if not os.path.isdir(class_path):\n",
    "            continue\n",
    "        \n",
    "        save_class_path = os.path.join(SAVE_PATH, class_name)\n",
    "        os.makedirs(save_class_path, exist_ok=True)\n",
    "\n",
    "        for img_name in os.listdir(class_path):\n",
    "            if img_name.endswith(\".jpg\") or img_name.endswith(\".png\"):\n",
    "                img_path = os.path.join(class_path, img_name)\n",
    "                frame = cv2.imread(img_path)\n",
    "                frame = cv2.cvtColor(frame, cv2.COLOR_BGR2RGB)\n",
    "                with mp_holistic.Holistic(min_detection_confidence=0.5, min_tracking_confidence=0.5) as holistic:\n",
    "                    image, results = mediapipe_detection(frame, holistic)\n",
    "                    keypoints = extract_keypoints(results)\n",
    "    \n",
    "                    # Save keypoints\n",
    "                    np.save(os.path.join(save_class_path, img_name.replace(\".jpg\", \".npy\").replace(\".png\", \".npy\")), keypoints)\n",
    "\n",
    "print(\"Keypoint extraction complete.\")\n"
   ]
  },
  {
   "cell_type": "code",
   "execution_count": 1,
   "id": "d78b966f-378a-4acd-a66b-359d921e0553",
   "metadata": {},
   "outputs": [
    {
     "name": "stdout",
     "output_type": "stream",
     "text": [
      "X shape: (58, 1, 258)\n",
      "y shape: (58, 7)\n"
     ]
    }
   ],
   "source": [
    "import os\n",
    "import numpy as np\n",
    "from tensorflow.keras.utils import to_categorical\n",
    "SAVE_PATH = \"keypoints_data\"\n",
    "SEQUENCE_LENGTH = 1  # Define sequence length\n",
    "\n",
    "# Get class labels\n",
    "LABELS = sorted(os.listdir(SAVE_PATH))  # Class names\n",
    "X, y = [], []\n",
    "\n",
    "# Load and group frames into sequences\n",
    "for class_index, class_name in enumerate(LABELS):\n",
    "    class_folder = os.path.join(SAVE_PATH, class_name)\n",
    "    class_files = sorted([f for f in os.listdir(class_folder) if f.endswith(\".npy\")])\n",
    "\n",
    "    # Ensure we have enough frames\n",
    "    for i in range(0, len(class_files) - SEQUENCE_LENGTH + 1, SEQUENCE_LENGTH):\n",
    "        sequence = [np.load(os.path.join(class_folder, class_files[j])) for j in range(i, i + SEQUENCE_LENGTH)]\n",
    "        X.append(sequence)\n",
    "        y.append(class_index)\n",
    "\n",
    "# Convert to numpy arrays\n",
    "X = np.array(X)\n",
    "y = to_categorical(y, num_classes=len(LABELS))\n",
    "\n",
    "# Print shapes\n",
    "print(\"X shape:\", X.shape)  # Expected: (num_samples, 30, feature_dim)\n",
    "print(\"y shape:\", y.shape)  # Expected: (num_samples, num_classes)\n"
   ]
  },
  {
   "cell_type": "code",
   "execution_count": 26,
   "id": "7cd6fa36-458c-46a8-8361-35695747f16a",
   "metadata": {},
   "outputs": [
    {
     "data": {
      "text/plain": [
       "(12, 1, 258)"
      ]
     },
     "execution_count": 26,
     "metadata": {},
     "output_type": "execute_result"
    }
   ],
   "source": [
    "from sklearn.model_selection import KFold, cross_val_score, train_test_split\n",
    "X_train, X_test, y_train, y_test = train_test_split(X, y, test_size=0.2)\n",
    "X_test.shape"
   ]
  },
  {
   "cell_type": "code",
   "execution_count": 27,
   "id": "e8fe1604-74fc-4d60-99e3-64cb7562c8bb",
   "metadata": {},
   "outputs": [],
   "source": [
    "from tensorflow.keras.models import Sequential\n",
    "from tensorflow.keras.layers import LSTM, Dense\n",
    "from tensorflow.keras.callbacks import TensorBoard\n",
    "# adding the logs folder\n",
    "log_dir = os.path.join('Logs')\n",
    "# tensorboard is a part of tensorflow monitoring the model training using a web app\n",
    "# will help to track the accuracy during the training\n",
    "tb_callback = TensorBoard(log_dir=log_dir)"
   ]
  },
  {
   "cell_type": "code",
   "execution_count": 33,
   "id": "67bab731-03b2-46d5-9f56-5d57ebea1bbf",
   "metadata": {},
   "outputs": [
    {
     "data": {
      "text/html": [
       "<pre style=\"white-space:pre;overflow-x:auto;line-height:normal;font-family:Menlo,'DejaVu Sans Mono',consolas,'Courier New',monospace\"><span style=\"font-weight: bold\">Model: \"sequential_6\"</span>\n",
       "</pre>\n"
      ],
      "text/plain": [
       "\u001b[1mModel: \"sequential_6\"\u001b[0m\n"
      ]
     },
     "metadata": {},
     "output_type": "display_data"
    },
    {
     "data": {
      "text/html": [
       "<pre style=\"white-space:pre;overflow-x:auto;line-height:normal;font-family:Menlo,'DejaVu Sans Mono',consolas,'Courier New',monospace\">┏━━━━━━━━━━━━━━━━━━━━━━━━━━━━━━━━━━━━━━┳━━━━━━━━━━━━━━━━━━━━━━━━━━━━━┳━━━━━━━━━━━━━━━━━┓\n",
       "┃<span style=\"font-weight: bold\"> Layer (type)                         </span>┃<span style=\"font-weight: bold\"> Output Shape                </span>┃<span style=\"font-weight: bold\">         Param # </span>┃\n",
       "┡━━━━━━━━━━━━━━━━━━━━━━━━━━━━━━━━━━━━━━╇━━━━━━━━━━━━━━━━━━━━━━━━━━━━━╇━━━━━━━━━━━━━━━━━┩\n",
       "│ lstm_18 (<span style=\"color: #0087ff; text-decoration-color: #0087ff\">LSTM</span>)                       │ (<span style=\"color: #00d7ff; text-decoration-color: #00d7ff\">None</span>, <span style=\"color: #00af00; text-decoration-color: #00af00\">1</span>, <span style=\"color: #00af00; text-decoration-color: #00af00\">64</span>)               │          <span style=\"color: #00af00; text-decoration-color: #00af00\">82,688</span> │\n",
       "├──────────────────────────────────────┼─────────────────────────────┼─────────────────┤\n",
       "│ lstm_19 (<span style=\"color: #0087ff; text-decoration-color: #0087ff\">LSTM</span>)                       │ (<span style=\"color: #00d7ff; text-decoration-color: #00d7ff\">None</span>, <span style=\"color: #00af00; text-decoration-color: #00af00\">1</span>, <span style=\"color: #00af00; text-decoration-color: #00af00\">128</span>)              │          <span style=\"color: #00af00; text-decoration-color: #00af00\">98,816</span> │\n",
       "├──────────────────────────────────────┼─────────────────────────────┼─────────────────┤\n",
       "│ lstm_20 (<span style=\"color: #0087ff; text-decoration-color: #0087ff\">LSTM</span>)                       │ (<span style=\"color: #00d7ff; text-decoration-color: #00d7ff\">None</span>, <span style=\"color: #00af00; text-decoration-color: #00af00\">64</span>)                  │          <span style=\"color: #00af00; text-decoration-color: #00af00\">49,408</span> │\n",
       "├──────────────────────────────────────┼─────────────────────────────┼─────────────────┤\n",
       "│ dense_18 (<span style=\"color: #0087ff; text-decoration-color: #0087ff\">Dense</span>)                     │ (<span style=\"color: #00d7ff; text-decoration-color: #00d7ff\">None</span>, <span style=\"color: #00af00; text-decoration-color: #00af00\">64</span>)                  │           <span style=\"color: #00af00; text-decoration-color: #00af00\">4,160</span> │\n",
       "├──────────────────────────────────────┼─────────────────────────────┼─────────────────┤\n",
       "│ dense_19 (<span style=\"color: #0087ff; text-decoration-color: #0087ff\">Dense</span>)                     │ (<span style=\"color: #00d7ff; text-decoration-color: #00d7ff\">None</span>, <span style=\"color: #00af00; text-decoration-color: #00af00\">32</span>)                  │           <span style=\"color: #00af00; text-decoration-color: #00af00\">2,080</span> │\n",
       "├──────────────────────────────────────┼─────────────────────────────┼─────────────────┤\n",
       "│ dense_20 (<span style=\"color: #0087ff; text-decoration-color: #0087ff\">Dense</span>)                     │ (<span style=\"color: #00d7ff; text-decoration-color: #00d7ff\">None</span>, <span style=\"color: #00af00; text-decoration-color: #00af00\">7</span>)                   │             <span style=\"color: #00af00; text-decoration-color: #00af00\">231</span> │\n",
       "└──────────────────────────────────────┴─────────────────────────────┴─────────────────┘\n",
       "</pre>\n"
      ],
      "text/plain": [
       "┏━━━━━━━━━━━━━━━━━━━━━━━━━━━━━━━━━━━━━━┳━━━━━━━━━━━━━━━━━━━━━━━━━━━━━┳━━━━━━━━━━━━━━━━━┓\n",
       "┃\u001b[1m \u001b[0m\u001b[1mLayer (type)                        \u001b[0m\u001b[1m \u001b[0m┃\u001b[1m \u001b[0m\u001b[1mOutput Shape               \u001b[0m\u001b[1m \u001b[0m┃\u001b[1m \u001b[0m\u001b[1m        Param #\u001b[0m\u001b[1m \u001b[0m┃\n",
       "┡━━━━━━━━━━━━━━━━━━━━━━━━━━━━━━━━━━━━━━╇━━━━━━━━━━━━━━━━━━━━━━━━━━━━━╇━━━━━━━━━━━━━━━━━┩\n",
       "│ lstm_18 (\u001b[38;5;33mLSTM\u001b[0m)                       │ (\u001b[38;5;45mNone\u001b[0m, \u001b[38;5;34m1\u001b[0m, \u001b[38;5;34m64\u001b[0m)               │          \u001b[38;5;34m82,688\u001b[0m │\n",
       "├──────────────────────────────────────┼─────────────────────────────┼─────────────────┤\n",
       "│ lstm_19 (\u001b[38;5;33mLSTM\u001b[0m)                       │ (\u001b[38;5;45mNone\u001b[0m, \u001b[38;5;34m1\u001b[0m, \u001b[38;5;34m128\u001b[0m)              │          \u001b[38;5;34m98,816\u001b[0m │\n",
       "├──────────────────────────────────────┼─────────────────────────────┼─────────────────┤\n",
       "│ lstm_20 (\u001b[38;5;33mLSTM\u001b[0m)                       │ (\u001b[38;5;45mNone\u001b[0m, \u001b[38;5;34m64\u001b[0m)                  │          \u001b[38;5;34m49,408\u001b[0m │\n",
       "├──────────────────────────────────────┼─────────────────────────────┼─────────────────┤\n",
       "│ dense_18 (\u001b[38;5;33mDense\u001b[0m)                     │ (\u001b[38;5;45mNone\u001b[0m, \u001b[38;5;34m64\u001b[0m)                  │           \u001b[38;5;34m4,160\u001b[0m │\n",
       "├──────────────────────────────────────┼─────────────────────────────┼─────────────────┤\n",
       "│ dense_19 (\u001b[38;5;33mDense\u001b[0m)                     │ (\u001b[38;5;45mNone\u001b[0m, \u001b[38;5;34m32\u001b[0m)                  │           \u001b[38;5;34m2,080\u001b[0m │\n",
       "├──────────────────────────────────────┼─────────────────────────────┼─────────────────┤\n",
       "│ dense_20 (\u001b[38;5;33mDense\u001b[0m)                     │ (\u001b[38;5;45mNone\u001b[0m, \u001b[38;5;34m7\u001b[0m)                   │             \u001b[38;5;34m231\u001b[0m │\n",
       "└──────────────────────────────────────┴─────────────────────────────┴─────────────────┘\n"
      ]
     },
     "metadata": {},
     "output_type": "display_data"
    },
    {
     "data": {
      "text/html": [
       "<pre style=\"white-space:pre;overflow-x:auto;line-height:normal;font-family:Menlo,'DejaVu Sans Mono',consolas,'Courier New',monospace\"><span style=\"font-weight: bold\"> Total params: </span><span style=\"color: #00af00; text-decoration-color: #00af00\">237,383</span> (927.28 KB)\n",
       "</pre>\n"
      ],
      "text/plain": [
       "\u001b[1m Total params: \u001b[0m\u001b[38;5;34m237,383\u001b[0m (927.28 KB)\n"
      ]
     },
     "metadata": {},
     "output_type": "display_data"
    },
    {
     "data": {
      "text/html": [
       "<pre style=\"white-space:pre;overflow-x:auto;line-height:normal;font-family:Menlo,'DejaVu Sans Mono',consolas,'Courier New',monospace\"><span style=\"font-weight: bold\"> Trainable params: </span><span style=\"color: #00af00; text-decoration-color: #00af00\">237,383</span> (927.28 KB)\n",
       "</pre>\n"
      ],
      "text/plain": [
       "\u001b[1m Trainable params: \u001b[0m\u001b[38;5;34m237,383\u001b[0m (927.28 KB)\n"
      ]
     },
     "metadata": {},
     "output_type": "display_data"
    },
    {
     "data": {
      "text/html": [
       "<pre style=\"white-space:pre;overflow-x:auto;line-height:normal;font-family:Menlo,'DejaVu Sans Mono',consolas,'Courier New',monospace\"><span style=\"font-weight: bold\"> Non-trainable params: </span><span style=\"color: #00af00; text-decoration-color: #00af00\">0</span> (0.00 B)\n",
       "</pre>\n"
      ],
      "text/plain": [
       "\u001b[1m Non-trainable params: \u001b[0m\u001b[38;5;34m0\u001b[0m (0.00 B)\n"
      ]
     },
     "metadata": {},
     "output_type": "display_data"
    }
   ],
   "source": [
    "\n",
    "model = Sequential()\n",
    "\n",
    "model.add(LSTM(64, return_sequences=True, activation='relu', input_shape=(1,258)))\n",
    "model.add(LSTM(128, return_sequences=True, activation='relu'))\n",
    "# return seq as false cuz next is dense layer so not required\n",
    "model.add(LSTM(64, return_sequences=False, activation='relu'))\n",
    "# adding 64 units for dense layer\n",
    "model.add(Dense(64, activation='relu'))\n",
    "model.add(Dense(32, activation='relu'))\n",
    "# actions is having three values so the actions.shape of [0] is also 3 in shape \n",
    "# using softmax so that the values are confined in 0 to 1 the value will sum up and provide 1\n",
    "model.add(Dense(7, activation='softmax'))\n",
    "model.summary()"
   ]
  },
  {
   "cell_type": "code",
   "execution_count": 34,
   "id": "883c51e0-5543-46b1-b945-2914cd7a716f",
   "metadata": {},
   "outputs": [
    {
     "name": "stdout",
     "output_type": "stream",
     "text": [
      "Epoch 1/150\n",
      "\u001b[1m2/2\u001b[0m \u001b[32m━━━━━━━━━━━━━━━━━━━━\u001b[0m\u001b[37m\u001b[0m \u001b[1m8s\u001b[0m 1s/step - categorical_accuracy: 0.1431 - loss: 1.9455 - val_categorical_accuracy: 0.0833 - val_loss: 1.9460\n",
      "Epoch 2/150\n",
      "\u001b[1m2/2\u001b[0m \u001b[32m━━━━━━━━━━━━━━━━━━━━\u001b[0m\u001b[37m\u001b[0m \u001b[1m0s\u001b[0m 217ms/step - categorical_accuracy: 0.3528 - loss: 1.9430 - val_categorical_accuracy: 0.0833 - val_loss: 1.9460\n",
      "Epoch 3/150\n",
      "\u001b[1m2/2\u001b[0m \u001b[32m━━━━━━━━━━━━━━━━━━━━\u001b[0m\u001b[37m\u001b[0m \u001b[1m0s\u001b[0m 207ms/step - categorical_accuracy: 0.3320 - loss: 1.9403 - val_categorical_accuracy: 0.0833 - val_loss: 1.9462\n",
      "Epoch 4/150\n",
      "\u001b[1m2/2\u001b[0m \u001b[32m━━━━━━━━━━━━━━━━━━━━\u001b[0m\u001b[37m\u001b[0m \u001b[1m0s\u001b[0m 159ms/step - categorical_accuracy: 0.3216 - loss: 1.9379 - val_categorical_accuracy: 0.0833 - val_loss: 1.9463\n",
      "Epoch 5/150\n",
      "\u001b[1m2/2\u001b[0m \u001b[32m━━━━━━━━━━━━━━━━━━━━\u001b[0m\u001b[37m\u001b[0m \u001b[1m0s\u001b[0m 177ms/step - categorical_accuracy: 0.3320 - loss: 1.9343 - val_categorical_accuracy: 0.0833 - val_loss: 1.9464\n",
      "Epoch 6/150\n",
      "\u001b[1m2/2\u001b[0m \u001b[32m━━━━━━━━━━━━━━━━━━━━\u001b[0m\u001b[37m\u001b[0m \u001b[1m0s\u001b[0m 196ms/step - categorical_accuracy: 0.3111 - loss: 1.9305 - val_categorical_accuracy: 0.0833 - val_loss: 1.9468\n",
      "Epoch 7/150\n",
      "\u001b[1m2/2\u001b[0m \u001b[32m━━━━━━━━━━━━━━━━━━━━\u001b[0m\u001b[37m\u001b[0m \u001b[1m0s\u001b[0m 175ms/step - categorical_accuracy: 0.3320 - loss: 1.9227 - val_categorical_accuracy: 0.0833 - val_loss: 1.9477\n",
      "Epoch 8/150\n",
      "\u001b[1m2/2\u001b[0m \u001b[32m━━━━━━━━━━━━━━━━━━━━\u001b[0m\u001b[37m\u001b[0m \u001b[1m0s\u001b[0m 157ms/step - categorical_accuracy: 0.3632 - loss: 1.9122 - val_categorical_accuracy: 0.0833 - val_loss: 1.9491\n",
      "Epoch 9/150\n",
      "\u001b[1m2/2\u001b[0m \u001b[32m━━━━━━━━━━━━━━━━━━━━\u001b[0m\u001b[37m\u001b[0m \u001b[1m0s\u001b[0m 129ms/step - categorical_accuracy: 0.3111 - loss: 1.9088 - val_categorical_accuracy: 0.0833 - val_loss: 1.9503\n",
      "Epoch 10/150\n",
      "\u001b[1m2/2\u001b[0m \u001b[32m━━━━━━━━━━━━━━━━━━━━\u001b[0m\u001b[37m\u001b[0m \u001b[1m0s\u001b[0m 145ms/step - categorical_accuracy: 0.3216 - loss: 1.8931 - val_categorical_accuracy: 0.0833 - val_loss: 1.9528\n",
      "Epoch 11/150\n",
      "\u001b[1m2/2\u001b[0m \u001b[32m━━━━━━━━━━━━━━━━━━━━\u001b[0m\u001b[37m\u001b[0m \u001b[1m0s\u001b[0m 232ms/step - categorical_accuracy: 0.3007 - loss: 1.8766 - val_categorical_accuracy: 0.0833 - val_loss: 1.9599\n",
      "Epoch 12/150\n",
      "\u001b[1m2/2\u001b[0m \u001b[32m━━━━━━━━━━━━━━━━━━━━\u001b[0m\u001b[37m\u001b[0m \u001b[1m0s\u001b[0m 143ms/step - categorical_accuracy: 0.3320 - loss: 1.8398 - val_categorical_accuracy: 0.0833 - val_loss: 1.9833\n",
      "Epoch 13/150\n",
      "\u001b[1m2/2\u001b[0m \u001b[32m━━━━━━━━━━━━━━━━━━━━\u001b[0m\u001b[37m\u001b[0m \u001b[1m0s\u001b[0m 209ms/step - categorical_accuracy: 0.3007 - loss: 1.8033 - val_categorical_accuracy: 0.0833 - val_loss: 2.0482\n",
      "Epoch 14/150\n",
      "\u001b[1m2/2\u001b[0m \u001b[32m━━━━━━━━━━━━━━━━━━━━\u001b[0m\u001b[37m\u001b[0m \u001b[1m0s\u001b[0m 202ms/step - categorical_accuracy: 0.3111 - loss: 1.7578 - val_categorical_accuracy: 0.0833 - val_loss: 2.1827\n",
      "Epoch 15/150\n",
      "\u001b[1m2/2\u001b[0m \u001b[32m━━━━━━━━━━━━━━━━━━━━\u001b[0m\u001b[37m\u001b[0m \u001b[1m0s\u001b[0m 306ms/step - categorical_accuracy: 0.3111 - loss: 1.7765 - val_categorical_accuracy: 0.0833 - val_loss: 2.1909\n",
      "Epoch 16/150\n",
      "\u001b[1m2/2\u001b[0m \u001b[32m━━━━━━━━━━━━━━━━━━━━\u001b[0m\u001b[37m\u001b[0m \u001b[1m0s\u001b[0m 202ms/step - categorical_accuracy: 0.3632 - loss: 1.6550 - val_categorical_accuracy: 0.0833 - val_loss: 2.0865\n",
      "Epoch 17/150\n",
      "\u001b[1m2/2\u001b[0m \u001b[32m━━━━━━━━━━━━━━━━━━━━\u001b[0m\u001b[37m\u001b[0m \u001b[1m0s\u001b[0m 168ms/step - categorical_accuracy: 0.3256 - loss: 1.7008 - val_categorical_accuracy: 0.3333 - val_loss: 1.9666\n",
      "Epoch 18/150\n",
      "\u001b[1m2/2\u001b[0m \u001b[32m━━━━━━━━━━━━━━━━━━━━\u001b[0m\u001b[37m\u001b[0m \u001b[1m0s\u001b[0m 136ms/step - categorical_accuracy: 0.4357 - loss: 1.6414 - val_categorical_accuracy: 0.3333 - val_loss: 1.9158\n",
      "Epoch 19/150\n",
      "\u001b[1m2/2\u001b[0m \u001b[32m━━━━━━━━━━━━━━━━━━━━\u001b[0m\u001b[37m\u001b[0m \u001b[1m0s\u001b[0m 167ms/step - categorical_accuracy: 0.4357 - loss: 1.6410 - val_categorical_accuracy: 0.3333 - val_loss: 1.8853\n",
      "Epoch 20/150\n",
      "\u001b[1m2/2\u001b[0m \u001b[32m━━━━━━━━━━━━━━━━━━━━\u001b[0m\u001b[37m\u001b[0m \u001b[1m0s\u001b[0m 165ms/step - categorical_accuracy: 0.4253 - loss: 1.6229 - val_categorical_accuracy: 0.3333 - val_loss: 1.8672\n",
      "Epoch 21/150\n",
      "\u001b[1m2/2\u001b[0m \u001b[32m━━━━━━━━━━━━━━━━━━━━\u001b[0m\u001b[37m\u001b[0m \u001b[1m0s\u001b[0m 165ms/step - categorical_accuracy: 0.4461 - loss: 1.5665 - val_categorical_accuracy: 0.3333 - val_loss: 1.8572\n",
      "Epoch 22/150\n",
      "\u001b[1m2/2\u001b[0m \u001b[32m━━━━━━━━━━━━━━━━━━━━\u001b[0m\u001b[37m\u001b[0m \u001b[1m0s\u001b[0m 227ms/step - categorical_accuracy: 0.4565 - loss: 1.5109 - val_categorical_accuracy: 0.3333 - val_loss: 1.8079\n",
      "Epoch 23/150\n",
      "\u001b[1m2/2\u001b[0m \u001b[32m━━━━━━━━━━━━━━━━━━━━\u001b[0m\u001b[37m\u001b[0m \u001b[1m0s\u001b[0m 259ms/step - categorical_accuracy: 0.4149 - loss: 1.5063 - val_categorical_accuracy: 0.3333 - val_loss: 1.7290\n",
      "Epoch 24/150\n",
      "\u001b[1m2/2\u001b[0m \u001b[32m━━━━━━━━━━━━━━━━━━━━\u001b[0m\u001b[37m\u001b[0m \u001b[1m0s\u001b[0m 202ms/step - categorical_accuracy: 0.4606 - loss: 1.4122 - val_categorical_accuracy: 0.3333 - val_loss: 1.7086\n",
      "Epoch 25/150\n",
      "\u001b[1m2/2\u001b[0m \u001b[32m━━━━━━━━━━━━━━━━━━━━\u001b[0m\u001b[37m\u001b[0m \u001b[1m0s\u001b[0m 175ms/step - categorical_accuracy: 0.4606 - loss: 1.3441 - val_categorical_accuracy: 0.3333 - val_loss: 1.7073\n",
      "Epoch 26/150\n",
      "\u001b[1m2/2\u001b[0m \u001b[32m━━━━━━━━━━━━━━━━━━━━\u001b[0m\u001b[37m\u001b[0m \u001b[1m0s\u001b[0m 154ms/step - categorical_accuracy: 0.4502 - loss: 1.3001 - val_categorical_accuracy: 0.3333 - val_loss: 1.6020\n",
      "Epoch 27/150\n",
      "\u001b[1m2/2\u001b[0m \u001b[32m━━━━━━━━━━━━━━━━━━━━\u001b[0m\u001b[37m\u001b[0m \u001b[1m0s\u001b[0m 181ms/step - categorical_accuracy: 0.4896 - loss: 1.2579 - val_categorical_accuracy: 0.3333 - val_loss: 1.5436\n",
      "Epoch 28/150\n",
      "\u001b[1m2/2\u001b[0m \u001b[32m━━━━━━━━━━━━━━━━━━━━\u001b[0m\u001b[37m\u001b[0m \u001b[1m0s\u001b[0m 235ms/step - categorical_accuracy: 0.4502 - loss: 1.1887 - val_categorical_accuracy: 0.3333 - val_loss: 1.4473\n",
      "Epoch 29/150\n",
      "\u001b[1m2/2\u001b[0m \u001b[32m━━━━━━━━━━━━━━━━━━━━\u001b[0m\u001b[37m\u001b[0m \u001b[1m0s\u001b[0m 215ms/step - categorical_accuracy: 0.5435 - loss: 1.1225 - val_categorical_accuracy: 0.5000 - val_loss: 1.3385\n",
      "Epoch 30/150\n",
      "\u001b[1m2/2\u001b[0m \u001b[32m━━━━━━━━━━━━━━━━━━━━\u001b[0m\u001b[37m\u001b[0m \u001b[1m0s\u001b[0m 195ms/step - categorical_accuracy: 0.6431 - loss: 1.0780 - val_categorical_accuracy: 0.5000 - val_loss: 1.3283\n",
      "Epoch 31/150\n",
      "\u001b[1m2/2\u001b[0m \u001b[32m━━━━━━━━━━━━━━━━━━━━\u001b[0m\u001b[37m\u001b[0m \u001b[1m0s\u001b[0m 210ms/step - categorical_accuracy: 0.6245 - loss: 0.9496 - val_categorical_accuracy: 0.5000 - val_loss: 1.2250\n",
      "Epoch 32/150\n",
      "\u001b[1m2/2\u001b[0m \u001b[32m━━━━━━━━━━━━━━━━━━━━\u001b[0m\u001b[37m\u001b[0m \u001b[1m0s\u001b[0m 213ms/step - categorical_accuracy: 0.6535 - loss: 0.9336 - val_categorical_accuracy: 0.5833 - val_loss: 1.1827\n",
      "Epoch 33/150\n",
      "\u001b[1m2/2\u001b[0m \u001b[32m━━━━━━━━━━━━━━━━━━━━\u001b[0m\u001b[37m\u001b[0m \u001b[1m0s\u001b[0m 209ms/step - categorical_accuracy: 0.7387 - loss: 0.8318 - val_categorical_accuracy: 0.5833 - val_loss: 1.1556\n",
      "Epoch 34/150\n",
      "\u001b[1m2/2\u001b[0m \u001b[32m━━━━━━━━━━━━━━━━━━━━\u001b[0m\u001b[37m\u001b[0m \u001b[1m0s\u001b[0m 190ms/step - categorical_accuracy: 0.7283 - loss: 0.8137 - val_categorical_accuracy: 0.5833 - val_loss: 1.0903\n",
      "Epoch 35/150\n",
      "\u001b[1m2/2\u001b[0m \u001b[32m━━━━━━━━━━━━━━━━━━━━\u001b[0m\u001b[37m\u001b[0m \u001b[1m0s\u001b[0m 192ms/step - categorical_accuracy: 0.7613 - loss: 0.7710 - val_categorical_accuracy: 0.5833 - val_loss: 1.0618\n",
      "Epoch 36/150\n",
      "\u001b[1m2/2\u001b[0m \u001b[32m━━━━━━━━━━━━━━━━━━━━\u001b[0m\u001b[37m\u001b[0m \u001b[1m0s\u001b[0m 174ms/step - categorical_accuracy: 0.8071 - loss: 0.6739 - val_categorical_accuracy: 0.5833 - val_loss: 0.9544\n",
      "Epoch 37/150\n",
      "\u001b[1m2/2\u001b[0m \u001b[32m━━━━━━━━━━━━━━━━━━━━\u001b[0m\u001b[37m\u001b[0m \u001b[1m0s\u001b[0m 193ms/step - categorical_accuracy: 0.8320 - loss: 0.6462 - val_categorical_accuracy: 0.6667 - val_loss: 0.9341\n",
      "Epoch 38/150\n",
      "\u001b[1m2/2\u001b[0m \u001b[32m━━━━━━━━━━━━━━━━━━━━\u001b[0m\u001b[37m\u001b[0m \u001b[1m0s\u001b[0m 193ms/step - categorical_accuracy: 0.8007 - loss: 0.6406 - val_categorical_accuracy: 0.6667 - val_loss: 0.8811\n",
      "Epoch 39/150\n",
      "\u001b[1m2/2\u001b[0m \u001b[32m━━━━━━━━━━━━━━━━━━━━\u001b[0m\u001b[37m\u001b[0m \u001b[1m0s\u001b[0m 186ms/step - categorical_accuracy: 0.8320 - loss: 0.5458 - val_categorical_accuracy: 0.6667 - val_loss: 0.8754\n",
      "Epoch 40/150\n",
      "\u001b[1m2/2\u001b[0m \u001b[32m━━━━━━━━━━━━━━━━━━━━\u001b[0m\u001b[37m\u001b[0m \u001b[1m0s\u001b[0m 181ms/step - categorical_accuracy: 0.7926 - loss: 0.5178 - val_categorical_accuracy: 0.6667 - val_loss: 0.7857\n",
      "Epoch 41/150\n",
      "\u001b[1m2/2\u001b[0m \u001b[32m━━━━━━━━━━━━━━━━━━━━\u001b[0m\u001b[37m\u001b[0m \u001b[1m0s\u001b[0m 198ms/step - categorical_accuracy: 0.7862 - loss: 0.5066 - val_categorical_accuracy: 0.7500 - val_loss: 0.7882\n",
      "Epoch 42/150\n",
      "\u001b[1m2/2\u001b[0m \u001b[32m━━━━━━━━━━━━━━━━━━━━\u001b[0m\u001b[37m\u001b[0m \u001b[1m0s\u001b[0m 245ms/step - categorical_accuracy: 0.8714 - loss: 0.4671 - val_categorical_accuracy: 0.8333 - val_loss: 0.6570\n",
      "Epoch 43/150\n",
      "\u001b[1m2/2\u001b[0m \u001b[32m━━━━━━━━━━━━━━━━━━━━\u001b[0m\u001b[37m\u001b[0m \u001b[1m0s\u001b[0m 229ms/step - categorical_accuracy: 0.8859 - loss: 0.5105 - val_categorical_accuracy: 0.7500 - val_loss: 0.9913\n",
      "Epoch 44/150\n",
      "\u001b[1m2/2\u001b[0m \u001b[32m━━━━━━━━━━━━━━━━━━━━\u001b[0m\u001b[37m\u001b[0m \u001b[1m0s\u001b[0m 144ms/step - categorical_accuracy: 0.7862 - loss: 0.5817 - val_categorical_accuracy: 0.8333 - val_loss: 0.8302\n",
      "Epoch 45/150\n",
      "\u001b[1m2/2\u001b[0m \u001b[32m━━━━━━━━━━━━━━━━━━━━\u001b[0m\u001b[37m\u001b[0m \u001b[1m0s\u001b[0m 173ms/step - categorical_accuracy: 0.8465 - loss: 0.3992 - val_categorical_accuracy: 0.9167 - val_loss: 0.6942\n",
      "Epoch 46/150\n",
      "\u001b[1m2/2\u001b[0m \u001b[32m━━━━━━━━━━━━━━━━━━━━\u001b[0m\u001b[37m\u001b[0m \u001b[1m0s\u001b[0m 177ms/step - categorical_accuracy: 0.7758 - loss: 0.5085 - val_categorical_accuracy: 0.8333 - val_loss: 0.7627\n",
      "Epoch 47/150\n",
      "\u001b[1m2/2\u001b[0m \u001b[32m━━━━━━━━━━━━━━━━━━━━\u001b[0m\u001b[37m\u001b[0m \u001b[1m0s\u001b[0m 223ms/step - categorical_accuracy: 0.8465 - loss: 0.3584 - val_categorical_accuracy: 0.8333 - val_loss: 0.7774\n",
      "Epoch 48/150\n",
      "\u001b[1m2/2\u001b[0m \u001b[32m━━━━━━━━━━━━━━━━━━━━\u001b[0m\u001b[37m\u001b[0m \u001b[1m0s\u001b[0m 153ms/step - categorical_accuracy: 0.8818 - loss: 0.3307 - val_categorical_accuracy: 0.8333 - val_loss: 0.7168\n",
      "Epoch 49/150\n",
      "\u001b[1m2/2\u001b[0m \u001b[32m━━━━━━━━━━━━━━━━━━━━\u001b[0m\u001b[37m\u001b[0m \u001b[1m0s\u001b[0m 198ms/step - categorical_accuracy: 0.8361 - loss: 0.3984 - val_categorical_accuracy: 0.9167 - val_loss: 0.8136\n",
      "Epoch 50/150\n",
      "\u001b[1m2/2\u001b[0m \u001b[32m━━━━━━━━━━━━━━━━━━━━\u001b[0m\u001b[37m\u001b[0m \u001b[1m0s\u001b[0m 187ms/step - categorical_accuracy: 0.8922 - loss: 0.3220 - val_categorical_accuracy: 0.7500 - val_loss: 0.8191\n",
      "Epoch 51/150\n",
      "\u001b[1m2/2\u001b[0m \u001b[32m━━━━━━━━━━━━━━━━━━━━\u001b[0m\u001b[37m\u001b[0m \u001b[1m0s\u001b[0m 189ms/step - categorical_accuracy: 0.8859 - loss: 0.3360 - val_categorical_accuracy: 0.8333 - val_loss: 0.7580\n",
      "Epoch 52/150\n",
      "\u001b[1m2/2\u001b[0m \u001b[32m━━━━━━━━━━━━━━━━━━━━\u001b[0m\u001b[37m\u001b[0m \u001b[1m0s\u001b[0m 170ms/step - categorical_accuracy: 0.8755 - loss: 0.3735 - val_categorical_accuracy: 0.7500 - val_loss: 0.8883\n",
      "Epoch 53/150\n",
      "\u001b[1m2/2\u001b[0m \u001b[32m━━━━━━━━━━━━━━━━━━━━\u001b[0m\u001b[37m\u001b[0m \u001b[1m0s\u001b[0m 246ms/step - categorical_accuracy: 0.8569 - loss: 0.3548 - val_categorical_accuracy: 0.7500 - val_loss: 0.7862\n",
      "Epoch 54/150\n",
      "\u001b[1m2/2\u001b[0m \u001b[32m━━━━━━━━━━━━━━━━━━━━\u001b[0m\u001b[37m\u001b[0m \u001b[1m0s\u001b[0m 175ms/step - categorical_accuracy: 0.9004 - loss: 0.2870 - val_categorical_accuracy: 0.8333 - val_loss: 0.7172\n",
      "Epoch 55/150\n",
      "\u001b[1m2/2\u001b[0m \u001b[32m━━━━━━━━━━━━━━━━━━━━\u001b[0m\u001b[37m\u001b[0m \u001b[1m0s\u001b[0m 202ms/step - categorical_accuracy: 0.8465 - loss: 0.3865 - val_categorical_accuracy: 0.8333 - val_loss: 0.8987\n",
      "Epoch 56/150\n",
      "\u001b[1m2/2\u001b[0m \u001b[32m━━━━━━━━━━━━━━━━━━━━\u001b[0m\u001b[37m\u001b[0m \u001b[1m0s\u001b[0m 224ms/step - categorical_accuracy: 0.8963 - loss: 0.2859 - val_categorical_accuracy: 0.7500 - val_loss: 1.1311\n",
      "Epoch 57/150\n",
      "\u001b[1m2/2\u001b[0m \u001b[32m━━━━━━━━━━━━━━━━━━━━\u001b[0m\u001b[37m\u001b[0m \u001b[1m0s\u001b[0m 235ms/step - categorical_accuracy: 0.8320 - loss: 0.3434 - val_categorical_accuracy: 0.9167 - val_loss: 0.8549\n",
      "Epoch 58/150\n",
      "\u001b[1m2/2\u001b[0m \u001b[32m━━━━━━━━━━━━━━━━━━━━\u001b[0m\u001b[37m\u001b[0m \u001b[1m0s\u001b[0m 223ms/step - categorical_accuracy: 0.9316 - loss: 0.2891 - val_categorical_accuracy: 0.8333 - val_loss: 0.7551\n",
      "Epoch 59/150\n",
      "\u001b[1m2/2\u001b[0m \u001b[32m━━━━━━━━━━━━━━━━━━━━\u001b[0m\u001b[37m\u001b[0m \u001b[1m0s\u001b[0m 216ms/step - categorical_accuracy: 0.8755 - loss: 0.2905 - val_categorical_accuracy: 0.8333 - val_loss: 0.8600\n",
      "Epoch 60/150\n",
      "\u001b[1m2/2\u001b[0m \u001b[32m━━━━━━━━━━━━━━━━━━━━\u001b[0m\u001b[37m\u001b[0m \u001b[1m0s\u001b[0m 173ms/step - categorical_accuracy: 0.8922 - loss: 0.3264 - val_categorical_accuracy: 0.8333 - val_loss: 0.7935\n",
      "Epoch 61/150\n",
      "\u001b[1m2/2\u001b[0m \u001b[32m━━━━━━━━━━━━━━━━━━━━\u001b[0m\u001b[37m\u001b[0m \u001b[1m0s\u001b[0m 241ms/step - categorical_accuracy: 0.8963 - loss: 0.2614 - val_categorical_accuracy: 0.8333 - val_loss: 0.7603\n",
      "Epoch 62/150\n",
      "\u001b[1m2/2\u001b[0m \u001b[32m━━━━━━━━━━━━━━━━━━━━\u001b[0m\u001b[37m\u001b[0m \u001b[1m0s\u001b[0m 203ms/step - categorical_accuracy: 0.8569 - loss: 0.3018 - val_categorical_accuracy: 0.8333 - val_loss: 0.8914\n",
      "Epoch 63/150\n",
      "\u001b[1m2/2\u001b[0m \u001b[32m━━━━━━━━━━━━━━━━━━━━\u001b[0m\u001b[37m\u001b[0m \u001b[1m0s\u001b[0m 220ms/step - categorical_accuracy: 0.8465 - loss: 0.2806 - val_categorical_accuracy: 0.8333 - val_loss: 1.0060\n",
      "Epoch 64/150\n",
      "\u001b[1m2/2\u001b[0m \u001b[32m━━━━━━━━━━━━━━━━━━━━\u001b[0m\u001b[37m\u001b[0m \u001b[1m0s\u001b[0m 204ms/step - categorical_accuracy: 0.9171 - loss: 0.2475 - val_categorical_accuracy: 0.8333 - val_loss: 0.8382\n",
      "Epoch 65/150\n",
      "\u001b[1m2/2\u001b[0m \u001b[32m━━━━━━━━━━━━━━━━━━━━\u001b[0m\u001b[37m\u001b[0m \u001b[1m0s\u001b[0m 256ms/step - categorical_accuracy: 0.8714 - loss: 0.2476 - val_categorical_accuracy: 0.8333 - val_loss: 0.7978\n",
      "Epoch 66/150\n",
      "\u001b[1m2/2\u001b[0m \u001b[32m━━━━━━━━━━━━━━━━━━━━\u001b[0m\u001b[37m\u001b[0m \u001b[1m0s\u001b[0m 204ms/step - categorical_accuracy: 0.9108 - loss: 0.2528 - val_categorical_accuracy: 0.7500 - val_loss: 0.9200\n",
      "Epoch 67/150\n",
      "\u001b[1m2/2\u001b[0m \u001b[32m━━━━━━━━━━━━━━━━━━━━\u001b[0m\u001b[37m\u001b[0m \u001b[1m0s\u001b[0m 230ms/step - categorical_accuracy: 0.9316 - loss: 0.2614 - val_categorical_accuracy: 0.7500 - val_loss: 0.9280\n",
      "Epoch 68/150\n",
      "\u001b[1m2/2\u001b[0m \u001b[32m━━━━━━━━━━━━━━━━━━━━\u001b[0m\u001b[37m\u001b[0m \u001b[1m0s\u001b[0m 208ms/step - categorical_accuracy: 0.8963 - loss: 0.2486 - val_categorical_accuracy: 0.8333 - val_loss: 0.7738\n",
      "Epoch 69/150\n",
      "\u001b[1m2/2\u001b[0m \u001b[32m━━━━━━━━━━━━━━━━━━━━\u001b[0m\u001b[37m\u001b[0m \u001b[1m0s\u001b[0m 201ms/step - categorical_accuracy: 0.8859 - loss: 0.3152 - val_categorical_accuracy: 0.8333 - val_loss: 0.7648\n",
      "Epoch 70/150\n",
      "\u001b[1m2/2\u001b[0m \u001b[32m━━━━━━━━━━━━━━━━━━━━\u001b[0m\u001b[37m\u001b[0m \u001b[1m0s\u001b[0m 152ms/step - categorical_accuracy: 0.8610 - loss: 0.2581 - val_categorical_accuracy: 0.8333 - val_loss: 0.8386\n",
      "Epoch 71/150\n",
      "\u001b[1m2/2\u001b[0m \u001b[32m━━━━━━━━━━━━━━━━━━━━\u001b[0m\u001b[37m\u001b[0m \u001b[1m0s\u001b[0m 192ms/step - categorical_accuracy: 0.9461 - loss: 0.2063 - val_categorical_accuracy: 0.8333 - val_loss: 0.8419\n",
      "Epoch 72/150\n",
      "\u001b[1m2/2\u001b[0m \u001b[32m━━━━━━━━━━━━━━━━━━━━\u001b[0m\u001b[37m\u001b[0m \u001b[1m0s\u001b[0m 222ms/step - categorical_accuracy: 0.9108 - loss: 0.2159 - val_categorical_accuracy: 0.8333 - val_loss: 0.7538\n",
      "Epoch 73/150\n",
      "\u001b[1m2/2\u001b[0m \u001b[32m━━━━━━━━━━━━━━━━━━━━\u001b[0m\u001b[37m\u001b[0m \u001b[1m0s\u001b[0m 175ms/step - categorical_accuracy: 0.9357 - loss: 0.2176 - val_categorical_accuracy: 0.8333 - val_loss: 0.7544\n",
      "Epoch 74/150\n",
      "\u001b[1m2/2\u001b[0m \u001b[32m━━━━━━━━━━━━━━━━━━━━\u001b[0m\u001b[37m\u001b[0m \u001b[1m0s\u001b[0m 152ms/step - categorical_accuracy: 0.8963 - loss: 0.2047 - val_categorical_accuracy: 0.8333 - val_loss: 0.8154\n",
      "Epoch 75/150\n",
      "\u001b[1m2/2\u001b[0m \u001b[32m━━━━━━━━━━━━━━━━━━━━\u001b[0m\u001b[37m\u001b[0m \u001b[1m0s\u001b[0m 181ms/step - categorical_accuracy: 0.9502 - loss: 0.2021 - val_categorical_accuracy: 0.7500 - val_loss: 0.8568\n",
      "Epoch 76/150\n",
      "\u001b[1m2/2\u001b[0m \u001b[32m━━━━━━━━━━━━━━━━━━━━\u001b[0m\u001b[37m\u001b[0m \u001b[1m0s\u001b[0m 211ms/step - categorical_accuracy: 0.9067 - loss: 0.1914 - val_categorical_accuracy: 0.8333 - val_loss: 0.8204\n",
      "Epoch 77/150\n",
      "\u001b[1m2/2\u001b[0m \u001b[32m━━━━━━━━━━━━━━━━━━━━\u001b[0m\u001b[37m\u001b[0m \u001b[1m0s\u001b[0m 230ms/step - categorical_accuracy: 0.9710 - loss: 0.1679 - val_categorical_accuracy: 0.8333 - val_loss: 0.7902\n",
      "Epoch 78/150\n",
      "\u001b[1m2/2\u001b[0m \u001b[32m━━━━━━━━━━━━━━━━━━━━\u001b[0m\u001b[37m\u001b[0m \u001b[1m0s\u001b[0m 214ms/step - categorical_accuracy: 0.9212 - loss: 0.1855 - val_categorical_accuracy: 0.8333 - val_loss: 0.7944\n",
      "Epoch 79/150\n",
      "\u001b[1m2/2\u001b[0m \u001b[32m━━━━━━━━━━━━━━━━━━━━\u001b[0m\u001b[37m\u001b[0m \u001b[1m0s\u001b[0m 223ms/step - categorical_accuracy: 0.9253 - loss: 0.1898 - val_categorical_accuracy: 0.8333 - val_loss: 0.8616\n",
      "Epoch 80/150\n",
      "\u001b[1m2/2\u001b[0m \u001b[32m━━━━━━━━━━━━━━━━━━━━\u001b[0m\u001b[37m\u001b[0m \u001b[1m0s\u001b[0m 208ms/step - categorical_accuracy: 0.9316 - loss: 0.1721 - val_categorical_accuracy: 0.8333 - val_loss: 0.8235\n",
      "Epoch 81/150\n",
      "\u001b[1m2/2\u001b[0m \u001b[32m━━━━━━━━━━━━━━━━━━━━\u001b[0m\u001b[37m\u001b[0m \u001b[1m0s\u001b[0m 219ms/step - categorical_accuracy: 0.9502 - loss: 0.1627 - val_categorical_accuracy: 0.8333 - val_loss: 0.8003\n",
      "Epoch 82/150\n",
      "\u001b[1m2/2\u001b[0m \u001b[32m━━━━━━━━━━━━━━━━━━━━\u001b[0m\u001b[37m\u001b[0m \u001b[1m0s\u001b[0m 167ms/step - categorical_accuracy: 0.9212 - loss: 0.1977 - val_categorical_accuracy: 0.8333 - val_loss: 0.8270\n",
      "Epoch 83/150\n",
      "\u001b[1m2/2\u001b[0m \u001b[32m━━━━━━━━━━━━━━━━━━━━\u001b[0m\u001b[37m\u001b[0m \u001b[1m0s\u001b[0m 206ms/step - categorical_accuracy: 0.9108 - loss: 0.1630 - val_categorical_accuracy: 0.7500 - val_loss: 0.9076\n",
      "Epoch 84/150\n",
      "\u001b[1m2/2\u001b[0m \u001b[32m━━━━━━━━━━━━━━━━━━━━\u001b[0m\u001b[37m\u001b[0m \u001b[1m0s\u001b[0m 216ms/step - categorical_accuracy: 0.9253 - loss: 0.1790 - val_categorical_accuracy: 0.7500 - val_loss: 0.9044\n",
      "Epoch 85/150\n",
      "\u001b[1m2/2\u001b[0m \u001b[32m━━━━━━━━━━━━━━━━━━━━\u001b[0m\u001b[37m\u001b[0m \u001b[1m0s\u001b[0m 177ms/step - categorical_accuracy: 0.9212 - loss: 0.1553 - val_categorical_accuracy: 0.8333 - val_loss: 0.8130\n",
      "Epoch 86/150\n",
      "\u001b[1m2/2\u001b[0m \u001b[32m━━━━━━━━━━━━━━━━━━━━\u001b[0m\u001b[37m\u001b[0m \u001b[1m0s\u001b[0m 223ms/step - categorical_accuracy: 0.9357 - loss: 0.1689 - val_categorical_accuracy: 0.8333 - val_loss: 0.8046\n",
      "Epoch 87/150\n",
      "\u001b[1m2/2\u001b[0m \u001b[32m━━━━━━━━━━━━━━━━━━━━\u001b[0m\u001b[37m\u001b[0m \u001b[1m0s\u001b[0m 197ms/step - categorical_accuracy: 0.9357 - loss: 0.1755 - val_categorical_accuracy: 0.8333 - val_loss: 0.9024\n",
      "Epoch 88/150\n",
      "\u001b[1m2/2\u001b[0m \u001b[32m━━━━━━━━━━━━━━━━━━━━\u001b[0m\u001b[37m\u001b[0m \u001b[1m0s\u001b[0m 192ms/step - categorical_accuracy: 0.9212 - loss: 0.1574 - val_categorical_accuracy: 0.7500 - val_loss: 0.9254\n",
      "Epoch 89/150\n",
      "\u001b[1m2/2\u001b[0m \u001b[32m━━━━━━━━━━━━━━━━━━━━\u001b[0m\u001b[37m\u001b[0m \u001b[1m0s\u001b[0m 191ms/step - categorical_accuracy: 0.9502 - loss: 0.1598 - val_categorical_accuracy: 0.8333 - val_loss: 0.8480\n",
      "Epoch 90/150\n",
      "\u001b[1m2/2\u001b[0m \u001b[32m━━━━━━━━━━━━━━━━━━━━\u001b[0m\u001b[37m\u001b[0m \u001b[1m0s\u001b[0m 177ms/step - categorical_accuracy: 0.9108 - loss: 0.1992 - val_categorical_accuracy: 0.8333 - val_loss: 0.8532\n",
      "Epoch 91/150\n",
      "\u001b[1m2/2\u001b[0m \u001b[32m━━━━━━━━━━━━━━━━━━━━\u001b[0m\u001b[37m\u001b[0m \u001b[1m0s\u001b[0m 198ms/step - categorical_accuracy: 0.9357 - loss: 0.1496 - val_categorical_accuracy: 0.8333 - val_loss: 0.9100\n",
      "Epoch 92/150\n",
      "\u001b[1m2/2\u001b[0m \u001b[32m━━━━━━━━━━━━━━━━━━━━\u001b[0m\u001b[37m\u001b[0m \u001b[1m0s\u001b[0m 165ms/step - categorical_accuracy: 0.9253 - loss: 0.1654 - val_categorical_accuracy: 0.8333 - val_loss: 0.9244\n",
      "Epoch 93/150\n",
      "\u001b[1m2/2\u001b[0m \u001b[32m━━━━━━━━━━━━━━━━━━━━\u001b[0m\u001b[37m\u001b[0m \u001b[1m0s\u001b[0m 210ms/step - categorical_accuracy: 0.9212 - loss: 0.1752 - val_categorical_accuracy: 0.8333 - val_loss: 0.8971\n",
      "Epoch 94/150\n",
      "\u001b[1m2/2\u001b[0m \u001b[32m━━━━━━━━━━━━━━━━━━━━\u001b[0m\u001b[37m\u001b[0m \u001b[1m0s\u001b[0m 210ms/step - categorical_accuracy: 0.9606 - loss: 0.1433 - val_categorical_accuracy: 0.8333 - val_loss: 0.8827\n",
      "Epoch 95/150\n",
      "\u001b[1m2/2\u001b[0m \u001b[32m━━━━━━━━━━━━━━━━━━━━\u001b[0m\u001b[37m\u001b[0m \u001b[1m0s\u001b[0m 218ms/step - categorical_accuracy: 0.9357 - loss: 0.1486 - val_categorical_accuracy: 0.7500 - val_loss: 0.9021\n",
      "Epoch 96/150\n",
      "\u001b[1m2/2\u001b[0m \u001b[32m━━━━━━━━━━━━━━━━━━━━\u001b[0m\u001b[37m\u001b[0m \u001b[1m0s\u001b[0m 224ms/step - categorical_accuracy: 0.9461 - loss: 0.1375 - val_categorical_accuracy: 0.8333 - val_loss: 0.9028\n",
      "Epoch 97/150\n",
      "\u001b[1m2/2\u001b[0m \u001b[32m━━━━━━━━━━━━━━━━━━━━\u001b[0m\u001b[37m\u001b[0m \u001b[1m0s\u001b[0m 197ms/step - categorical_accuracy: 0.9004 - loss: 0.1430 - val_categorical_accuracy: 0.8333 - val_loss: 0.9056\n",
      "Epoch 98/150\n",
      "\u001b[1m2/2\u001b[0m \u001b[32m━━━━━━━━━━━━━━━━━━━━\u001b[0m\u001b[37m\u001b[0m \u001b[1m0s\u001b[0m 196ms/step - categorical_accuracy: 0.9108 - loss: 0.1687 - val_categorical_accuracy: 0.8333 - val_loss: 0.8995\n",
      "Epoch 99/150\n",
      "\u001b[1m2/2\u001b[0m \u001b[32m━━━━━━━━━━━━━━━━━━━━\u001b[0m\u001b[37m\u001b[0m \u001b[1m0s\u001b[0m 216ms/step - categorical_accuracy: 0.9108 - loss: 0.1407 - val_categorical_accuracy: 0.8333 - val_loss: 0.8880\n",
      "Epoch 100/150\n",
      "\u001b[1m2/2\u001b[0m \u001b[32m━━━━━━━━━━━━━━━━━━━━\u001b[0m\u001b[37m\u001b[0m \u001b[1m0s\u001b[0m 169ms/step - categorical_accuracy: 0.9606 - loss: 0.1265 - val_categorical_accuracy: 0.8333 - val_loss: 0.8656\n",
      "Epoch 101/150\n",
      "\u001b[1m2/2\u001b[0m \u001b[32m━━━━━━━━━━━━━━━━━━━━\u001b[0m\u001b[37m\u001b[0m \u001b[1m0s\u001b[0m 136ms/step - categorical_accuracy: 0.9751 - loss: 0.1288 - val_categorical_accuracy: 0.8333 - val_loss: 0.8748\n",
      "Epoch 102/150\n",
      "\u001b[1m2/2\u001b[0m \u001b[32m━━━━━━━━━━━━━━━━━━━━\u001b[0m\u001b[37m\u001b[0m \u001b[1m0s\u001b[0m 147ms/step - categorical_accuracy: 0.9606 - loss: 0.1296 - val_categorical_accuracy: 0.8333 - val_loss: 0.8756\n",
      "Epoch 103/150\n",
      "\u001b[1m2/2\u001b[0m \u001b[32m━━━━━━━━━━━━━━━━━━━━\u001b[0m\u001b[37m\u001b[0m \u001b[1m0s\u001b[0m 195ms/step - categorical_accuracy: 0.9751 - loss: 0.1139 - val_categorical_accuracy: 0.8333 - val_loss: 0.8579\n",
      "Epoch 104/150\n",
      "\u001b[1m2/2\u001b[0m \u001b[32m━━━━━━━━━━━━━━━━━━━━\u001b[0m\u001b[37m\u001b[0m \u001b[1m0s\u001b[0m 196ms/step - categorical_accuracy: 0.9710 - loss: 0.1166 - val_categorical_accuracy: 0.8333 - val_loss: 0.8532\n",
      "Epoch 105/150\n",
      "\u001b[1m2/2\u001b[0m \u001b[32m━━━━━━━━━━━━━━━━━━━━\u001b[0m\u001b[37m\u001b[0m \u001b[1m0s\u001b[0m 201ms/step - categorical_accuracy: 0.9855 - loss: 0.1129 - val_categorical_accuracy: 0.8333 - val_loss: 0.8840\n",
      "Epoch 106/150\n",
      "\u001b[1m2/2\u001b[0m \u001b[32m━━━━━━━━━━━━━━━━━━━━\u001b[0m\u001b[37m\u001b[0m \u001b[1m0s\u001b[0m 210ms/step - categorical_accuracy: 0.9502 - loss: 0.1371 - val_categorical_accuracy: 0.8333 - val_loss: 0.9283\n",
      "Epoch 107/150\n",
      "\u001b[1m2/2\u001b[0m \u001b[32m━━━━━━━━━━━━━━━━━━━━\u001b[0m\u001b[37m\u001b[0m \u001b[1m0s\u001b[0m 211ms/step - categorical_accuracy: 0.9212 - loss: 0.1325 - val_categorical_accuracy: 0.8333 - val_loss: 0.9048\n",
      "Epoch 108/150\n",
      "\u001b[1m2/2\u001b[0m \u001b[32m━━━━━━━━━━━━━━━━━━━━\u001b[0m\u001b[37m\u001b[0m \u001b[1m0s\u001b[0m 181ms/step - categorical_accuracy: 0.9751 - loss: 0.1180 - val_categorical_accuracy: 0.8333 - val_loss: 0.8705\n",
      "Epoch 109/150\n",
      "\u001b[1m2/2\u001b[0m \u001b[32m━━━━━━━━━━━━━━━━━━━━\u001b[0m\u001b[37m\u001b[0m \u001b[1m0s\u001b[0m 189ms/step - categorical_accuracy: 0.9357 - loss: 0.1467 - val_categorical_accuracy: 0.8333 - val_loss: 0.8928\n",
      "Epoch 110/150\n",
      "\u001b[1m2/2\u001b[0m \u001b[32m━━━━━━━━━━━━━━━━━━━━\u001b[0m\u001b[37m\u001b[0m \u001b[1m0s\u001b[0m 222ms/step - categorical_accuracy: 0.9606 - loss: 0.1017 - val_categorical_accuracy: 0.8333 - val_loss: 0.9210\n",
      "Epoch 111/150\n",
      "\u001b[1m2/2\u001b[0m \u001b[32m━━━━━━━━━━━━━━━━━━━━\u001b[0m\u001b[37m\u001b[0m \u001b[1m0s\u001b[0m 164ms/step - categorical_accuracy: 0.9855 - loss: 0.1110 - val_categorical_accuracy: 0.8333 - val_loss: 0.9228\n",
      "Epoch 112/150\n",
      "\u001b[1m2/2\u001b[0m \u001b[32m━━━━━━━━━━━━━━━━━━━━\u001b[0m\u001b[37m\u001b[0m \u001b[1m0s\u001b[0m 210ms/step - categorical_accuracy: 0.9751 - loss: 0.1249 - val_categorical_accuracy: 0.8333 - val_loss: 0.9001\n",
      "Epoch 113/150\n",
      "\u001b[1m2/2\u001b[0m \u001b[32m━━━━━━━━━━━━━━━━━━━━\u001b[0m\u001b[37m\u001b[0m \u001b[1m0s\u001b[0m 200ms/step - categorical_accuracy: 0.9855 - loss: 0.0920 - val_categorical_accuracy: 0.8333 - val_loss: 0.9170\n",
      "Epoch 114/150\n",
      "\u001b[1m2/2\u001b[0m \u001b[32m━━━━━━━━━━━━━━━━━━━━\u001b[0m\u001b[37m\u001b[0m \u001b[1m0s\u001b[0m 179ms/step - categorical_accuracy: 0.9502 - loss: 0.1364 - val_categorical_accuracy: 0.6667 - val_loss: 1.0825\n",
      "Epoch 115/150\n",
      "\u001b[1m2/2\u001b[0m \u001b[32m━━━━━━━━━━━━━━━━━━━━\u001b[0m\u001b[37m\u001b[0m \u001b[1m0s\u001b[0m 212ms/step - categorical_accuracy: 0.9108 - loss: 0.2282 - val_categorical_accuracy: 0.8333 - val_loss: 0.9185\n",
      "Epoch 116/150\n",
      "\u001b[1m2/2\u001b[0m \u001b[32m━━━━━━━━━━━━━━━━━━━━\u001b[0m\u001b[37m\u001b[0m \u001b[1m0s\u001b[0m 208ms/step - categorical_accuracy: 0.9855 - loss: 0.0900 - val_categorical_accuracy: 0.8333 - val_loss: 0.9554\n",
      "Epoch 117/150\n",
      "\u001b[1m2/2\u001b[0m \u001b[32m━━━━━━━━━━━━━━━━━━━━\u001b[0m\u001b[37m\u001b[0m \u001b[1m0s\u001b[0m 203ms/step - categorical_accuracy: 0.9502 - loss: 0.1250 - val_categorical_accuracy: 0.8333 - val_loss: 1.0352\n",
      "Epoch 118/150\n",
      "\u001b[1m2/2\u001b[0m \u001b[32m━━━━━━━━━━━━━━━━━━━━\u001b[0m\u001b[37m\u001b[0m \u001b[1m0s\u001b[0m 225ms/step - categorical_accuracy: 0.9606 - loss: 0.1210 - val_categorical_accuracy: 0.8333 - val_loss: 1.0964\n",
      "Epoch 119/150\n",
      "\u001b[1m2/2\u001b[0m \u001b[32m━━━━━━━━━━━━━━━━━━━━\u001b[0m\u001b[37m\u001b[0m \u001b[1m0s\u001b[0m 195ms/step - categorical_accuracy: 0.9357 - loss: 0.1524 - val_categorical_accuracy: 0.8333 - val_loss: 1.0500\n",
      "Epoch 120/150\n",
      "\u001b[1m2/2\u001b[0m \u001b[32m━━━━━━━━━━━━━━━━━━━━\u001b[0m\u001b[37m\u001b[0m \u001b[1m0s\u001b[0m 152ms/step - categorical_accuracy: 0.9855 - loss: 0.0850 - val_categorical_accuracy: 0.8333 - val_loss: 0.9537\n",
      "Epoch 121/150\n",
      "\u001b[1m2/2\u001b[0m \u001b[32m━━━━━━━━━━━━━━━━━━━━\u001b[0m\u001b[37m\u001b[0m \u001b[1m0s\u001b[0m 198ms/step - categorical_accuracy: 0.9502 - loss: 0.1328 - val_categorical_accuracy: 0.8333 - val_loss: 0.9940\n",
      "Epoch 122/150\n",
      "\u001b[1m2/2\u001b[0m \u001b[32m━━━━━━━━━━━━━━━━━━━━\u001b[0m\u001b[37m\u001b[0m \u001b[1m0s\u001b[0m 186ms/step - categorical_accuracy: 0.9502 - loss: 0.1280 - val_categorical_accuracy: 0.8333 - val_loss: 1.0585\n",
      "Epoch 123/150\n",
      "\u001b[1m2/2\u001b[0m \u001b[32m━━━━━━━━━━━━━━━━━━━━\u001b[0m\u001b[37m\u001b[0m \u001b[1m0s\u001b[0m 216ms/step - categorical_accuracy: 0.9751 - loss: 0.0919 - val_categorical_accuracy: 0.8333 - val_loss: 1.0210\n",
      "Epoch 124/150\n",
      "\u001b[1m2/2\u001b[0m \u001b[32m━━━━━━━━━━━━━━━━━━━━\u001b[0m\u001b[37m\u001b[0m \u001b[1m0s\u001b[0m 141ms/step - categorical_accuracy: 0.9855 - loss: 0.0830 - val_categorical_accuracy: 0.8333 - val_loss: 0.9423\n",
      "Epoch 125/150\n",
      "\u001b[1m2/2\u001b[0m \u001b[32m━━━━━━━━━━━━━━━━━━━━\u001b[0m\u001b[37m\u001b[0m \u001b[1m0s\u001b[0m 200ms/step - categorical_accuracy: 0.9502 - loss: 0.0985 - val_categorical_accuracy: 0.8333 - val_loss: 0.9467\n",
      "Epoch 126/150\n",
      "\u001b[1m2/2\u001b[0m \u001b[32m━━━━━━━━━━━━━━━━━━━━\u001b[0m\u001b[37m\u001b[0m \u001b[1m0s\u001b[0m 164ms/step - categorical_accuracy: 0.9606 - loss: 0.1122 - val_categorical_accuracy: 0.8333 - val_loss: 1.0458\n",
      "Epoch 127/150\n",
      "\u001b[1m2/2\u001b[0m \u001b[32m━━━━━━━━━━━━━━━━━━━━\u001b[0m\u001b[37m\u001b[0m \u001b[1m0s\u001b[0m 196ms/step - categorical_accuracy: 0.9606 - loss: 0.0997 - val_categorical_accuracy: 0.8333 - val_loss: 1.0658\n",
      "Epoch 128/150\n",
      "\u001b[1m2/2\u001b[0m \u001b[32m━━━━━━━━━━━━━━━━━━━━\u001b[0m\u001b[37m\u001b[0m \u001b[1m0s\u001b[0m 178ms/step - categorical_accuracy: 1.0000 - loss: 0.0712 - val_categorical_accuracy: 0.8333 - val_loss: 1.0152\n",
      "Epoch 129/150\n",
      "\u001b[1m2/2\u001b[0m \u001b[32m━━━━━━━━━━━━━━━━━━━━\u001b[0m\u001b[37m\u001b[0m \u001b[1m0s\u001b[0m 221ms/step - categorical_accuracy: 0.9855 - loss: 0.0866 - val_categorical_accuracy: 0.8333 - val_loss: 1.0279\n",
      "Epoch 130/150\n",
      "\u001b[1m2/2\u001b[0m \u001b[32m━━━━━━━━━━━━━━━━━━━━\u001b[0m\u001b[37m\u001b[0m \u001b[1m0s\u001b[0m 228ms/step - categorical_accuracy: 1.0000 - loss: 0.0751 - val_categorical_accuracy: 0.8333 - val_loss: 1.1393\n",
      "Epoch 131/150\n",
      "\u001b[1m2/2\u001b[0m \u001b[32m━━━━━━━━━━━━━━━━━━━━\u001b[0m\u001b[37m\u001b[0m \u001b[1m0s\u001b[0m 165ms/step - categorical_accuracy: 0.9253 - loss: 0.1125 - val_categorical_accuracy: 0.8333 - val_loss: 1.1375\n",
      "Epoch 132/150\n",
      "\u001b[1m2/2\u001b[0m \u001b[32m━━━━━━━━━━━━━━━━━━━━\u001b[0m\u001b[37m\u001b[0m \u001b[1m0s\u001b[0m 177ms/step - categorical_accuracy: 0.9502 - loss: 0.0883 - val_categorical_accuracy: 0.8333 - val_loss: 1.0837\n",
      "Epoch 133/150\n",
      "\u001b[1m2/2\u001b[0m \u001b[32m━━━━━━━━━━━━━━━━━━━━\u001b[0m\u001b[37m\u001b[0m \u001b[1m0s\u001b[0m 169ms/step - categorical_accuracy: 1.0000 - loss: 0.0696 - val_categorical_accuracy: 0.8333 - val_loss: 1.0722\n",
      "Epoch 134/150\n",
      "\u001b[1m2/2\u001b[0m \u001b[32m━━━━━━━━━━━━━━━━━━━━\u001b[0m\u001b[37m\u001b[0m \u001b[1m0s\u001b[0m 184ms/step - categorical_accuracy: 0.9710 - loss: 0.0802 - val_categorical_accuracy: 0.8333 - val_loss: 1.0995\n",
      "Epoch 135/150\n",
      "\u001b[1m2/2\u001b[0m \u001b[32m━━━━━━━━━━━━━━━━━━━━\u001b[0m\u001b[37m\u001b[0m \u001b[1m0s\u001b[0m 142ms/step - categorical_accuracy: 1.0000 - loss: 0.0586 - val_categorical_accuracy: 0.7500 - val_loss: 1.2268\n",
      "Epoch 136/150\n",
      "\u001b[1m2/2\u001b[0m \u001b[32m━━━━━━━━━━━━━━━━━━━━\u001b[0m\u001b[37m\u001b[0m \u001b[1m0s\u001b[0m 168ms/step - categorical_accuracy: 0.9461 - loss: 0.1259 - val_categorical_accuracy: 0.8333 - val_loss: 1.1094\n",
      "Epoch 137/150\n",
      "\u001b[1m2/2\u001b[0m \u001b[32m━━━━━━━━━━━━━━━━━━━━\u001b[0m\u001b[37m\u001b[0m \u001b[1m0s\u001b[0m 177ms/step - categorical_accuracy: 0.9855 - loss: 0.0761 - val_categorical_accuracy: 0.8333 - val_loss: 1.0969\n",
      "Epoch 138/150\n",
      "\u001b[1m2/2\u001b[0m \u001b[32m━━━━━━━━━━━━━━━━━━━━\u001b[0m\u001b[37m\u001b[0m \u001b[1m0s\u001b[0m 192ms/step - categorical_accuracy: 0.9606 - loss: 0.1029 - val_categorical_accuracy: 0.8333 - val_loss: 1.1625\n",
      "Epoch 139/150\n",
      "\u001b[1m2/2\u001b[0m \u001b[32m━━━━━━━━━━━━━━━━━━━━\u001b[0m\u001b[37m\u001b[0m \u001b[1m0s\u001b[0m 221ms/step - categorical_accuracy: 0.9855 - loss: 0.1002 - val_categorical_accuracy: 0.8333 - val_loss: 1.1483\n",
      "Epoch 140/150\n",
      "\u001b[1m2/2\u001b[0m \u001b[32m━━━━━━━━━━━━━━━━━━━━\u001b[0m\u001b[37m\u001b[0m \u001b[1m0s\u001b[0m 166ms/step - categorical_accuracy: 1.0000 - loss: 0.0591 - val_categorical_accuracy: 0.8333 - val_loss: 1.1054\n",
      "Epoch 141/150\n",
      "\u001b[1m2/2\u001b[0m \u001b[32m━━━━━━━━━━━━━━━━━━━━\u001b[0m\u001b[37m\u001b[0m \u001b[1m0s\u001b[0m 185ms/step - categorical_accuracy: 0.9606 - loss: 0.1265 - val_categorical_accuracy: 0.8333 - val_loss: 1.1242\n",
      "Epoch 142/150\n",
      "\u001b[1m2/2\u001b[0m \u001b[32m━━━━━━━━━━━━━━━━━━━━\u001b[0m\u001b[37m\u001b[0m \u001b[1m0s\u001b[0m 166ms/step - categorical_accuracy: 0.9606 - loss: 0.0722 - val_categorical_accuracy: 0.7500 - val_loss: 1.2330\n",
      "Epoch 143/150\n",
      "\u001b[1m2/2\u001b[0m \u001b[32m━━━━━━━━━━━━━━━━━━━━\u001b[0m\u001b[37m\u001b[0m \u001b[1m0s\u001b[0m 230ms/step - categorical_accuracy: 0.9461 - loss: 0.1255 - val_categorical_accuracy: 0.8333 - val_loss: 1.1340\n",
      "Epoch 144/150\n",
      "\u001b[1m2/2\u001b[0m \u001b[32m━━━━━━━━━━━━━━━━━━━━\u001b[0m\u001b[37m\u001b[0m \u001b[1m0s\u001b[0m 197ms/step - categorical_accuracy: 0.9502 - loss: 0.0808 - val_categorical_accuracy: 0.8333 - val_loss: 1.0358\n",
      "Epoch 145/150\n",
      "\u001b[1m2/2\u001b[0m \u001b[32m━━━━━━━━━━━━━━━━━━━━\u001b[0m\u001b[37m\u001b[0m \u001b[1m0s\u001b[0m 235ms/step - categorical_accuracy: 0.9751 - loss: 0.1120 - val_categorical_accuracy: 0.8333 - val_loss: 1.1108\n",
      "Epoch 146/150\n",
      "\u001b[1m2/2\u001b[0m \u001b[32m━━━━━━━━━━━━━━━━━━━━\u001b[0m\u001b[37m\u001b[0m \u001b[1m0s\u001b[0m 188ms/step - categorical_accuracy: 0.9710 - loss: 0.0571 - val_categorical_accuracy: 0.8333 - val_loss: 1.1492\n",
      "Epoch 147/150\n",
      "\u001b[1m2/2\u001b[0m \u001b[32m━━━━━━━━━━━━━━━━━━━━\u001b[0m\u001b[37m\u001b[0m \u001b[1m0s\u001b[0m 210ms/step - categorical_accuracy: 0.9606 - loss: 0.0874 - val_categorical_accuracy: 0.8333 - val_loss: 1.0418\n",
      "Epoch 148/150\n",
      "\u001b[1m2/2\u001b[0m \u001b[32m━━━━━━━━━━━━━━━━━━━━\u001b[0m\u001b[37m\u001b[0m \u001b[1m0s\u001b[0m 141ms/step - categorical_accuracy: 0.9751 - loss: 0.0570 - val_categorical_accuracy: 0.8333 - val_loss: 1.0301\n",
      "Epoch 149/150\n",
      "\u001b[1m2/2\u001b[0m \u001b[32m━━━━━━━━━━━━━━━━━━━━\u001b[0m\u001b[37m\u001b[0m \u001b[1m0s\u001b[0m 136ms/step - categorical_accuracy: 0.9212 - loss: 0.1150 - val_categorical_accuracy: 0.8333 - val_loss: 1.1040\n",
      "Epoch 150/150\n",
      "\u001b[1m2/2\u001b[0m \u001b[32m━━━━━━━━━━━━━━━━━━━━\u001b[0m\u001b[37m\u001b[0m \u001b[1m0s\u001b[0m 146ms/step - categorical_accuracy: 0.9751 - loss: 0.0663 - val_categorical_accuracy: 0.8333 - val_loss: 1.2538\n"
     ]
    }
   ],
   "source": [
    "model.compile(optimizer='Adam', loss='categorical_crossentropy', metrics=['categorical_accuracy'])\n",
    "history=model.fit(X_train, y_train, epochs=150, validation_data=(X_test, y_test), callbacks=[tb_callback])"
   ]
  },
  {
   "cell_type": "code",
   "execution_count": 35,
   "id": "52e356dd-790b-4996-a3e6-c476d04fec85",
   "metadata": {},
   "outputs": [],
   "source": [
    "model.save('model.keras')"
   ]
  },
  {
   "cell_type": "code",
   "execution_count": 36,
   "id": "fd4ac8ed-a315-4cc6-aaee-38039764ff86",
   "metadata": {},
   "outputs": [
    {
     "name": "stderr",
     "output_type": "stream",
     "text": [
      "WARNING:absl:You are saving your model as an HDF5 file via `model.save()` or `keras.saving.save_model(model)`. This file format is considered legacy. We recommend using instead the native Keras format, e.g. `model.save('my_model.keras')` or `keras.saving.save_model(model, 'my_model.keras')`. \n"
     ]
    }
   ],
   "source": [
    "model.save('model.h5')"
   ]
  },
  {
   "cell_type": "code",
   "execution_count": 37,
   "id": "0843d1e2-7ad3-4500-a45c-7674fea25904",
   "metadata": {},
   "outputs": [],
   "source": [
    "train_accuracy=[]\n",
    "val_accuracy=[]\n",
    "train_loss=[]\n",
    "val_loss=[]"
   ]
  },
  {
   "cell_type": "code",
   "execution_count": 38,
   "id": "1dd49d5f-6eb1-4f7e-98f5-bb4b7a986c37",
   "metadata": {},
   "outputs": [],
   "source": [
    "train_accuracy.extend(history.history['categorical_accuracy'])\n",
    "val_accuracy.extend(history.history['val_categorical_accuracy'])\n",
    "train_loss.extend(history.history['loss'])\n",
    "val_loss.extend(history.history['val_loss'])"
   ]
  },
  {
   "cell_type": "code",
   "execution_count": 39,
   "id": "c4783183-5c7f-4699-b8f9-46f53b5f7feb",
   "metadata": {},
   "outputs": [
    {
     "data": {
      "image/png": "[encoded data removed]",
      "text/plain": [
       "<Figure size 1200x400 with 2 Axes>"
      ]
     },
     "metadata": {},
     "output_type": "display_data"
    }
   ],
   "source": [
    "import matplotlib.pyplot as plt\n",
    "epochs = range(1, len(train_accuracy) + 1)\n",
    "# Plotting Training and Validation Accuracy\n",
    "plt.figure(figsize=(12, 4))\n",
    "\n",
    "plt.subplot(1, 2, 1)\n",
    "plt.plot(epochs,train_accuracy , 'bo-', label='Training Accuracy')\n",
    "plt.plot(epochs, val_accuracy, 'ro-', label='Validation Accuracy')\n",
    "plt.title('Training and Validation Accuracy')\n",
    "plt.xlabel('Epochs')\n",
    "plt.ylabel('Accuracy')\n",
    "plt.legend()\n",
    "\n",
    "# Plotting Training and Validation Loss\n",
    "plt.subplot(1, 2, 2)\n",
    "plt.plot(epochs,train_loss , 'bo-', label='Training Loss')\n",
    "plt.plot(epochs, val_loss, 'ro-', label='Validation Loss')\n",
    "plt.title('Training and Validation Loss')\n",
    "plt.xlabel('Epochs')\n",
    "plt.ylabel('Loss')\n",
    "plt.legend()\n",
    "\n",
    "plt.tight_layout()\n",
    "plt.show()"
   ]
  },
  {
   "cell_type": "code",
   "execution_count": 40,
   "id": "aa628d4c-4e43-4d66-899f-d7b907dcae54",
   "metadata": {},
   "outputs": [
    {
     "name": "stdout",
     "output_type": "stream",
     "text": [
      "\u001b[1m1/1\u001b[0m \u001b[32m━━━━━━━━━━━━━━━━━━━━\u001b[0m\u001b[37m\u001b[0m \u001b[1m1s\u001b[0m 836ms/step\n"
     ]
    }
   ],
   "source": [
    "Y_pred = model.predict(X_test)\n",
    "Y_pred_classes = np.argmax(Y_pred,axis = 1) \n",
    "Y_pred_max_prob = np.max(Y_pred, axis=1)\n",
    "# Convert validation observations to one hot vectors\n",
    "Y_true = np.argmax(y_test,axis = 1) "
   ]
  },
  {
   "cell_type": "code",
   "execution_count": 41,
   "id": "b3f63883-9eb6-4ee8-a34f-e18399162b7b",
   "metadata": {},
   "outputs": [
    {
     "data": {
      "text/plain": [
       "array([5, 1, 0, 2, 4, 3, 5, 4, 6, 4, 1, 6], dtype=int64)"
      ]
     },
     "execution_count": 41,
     "metadata": {},
     "output_type": "execute_result"
    }
   ],
   "source": [
    "Y_pred_classes"
   ]
  },
  {
   "cell_type": "code",
   "execution_count": 42,
   "id": "79af7a18-0c94-4858-9b9d-2f760f01c8f1",
   "metadata": {},
   "outputs": [],
   "source": [
    "def plot_confusion_matrix(cm, classes,\n",
    "                          normalize=False,\n",
    "                          title='Confusion matrix',\n",
    "                          cmap=plt.cm.Blues):\n",
    "    \"\"\"\n",
    "    This function prints and plots the confusion matrix.\n",
    "    Normalization can be applied by setting `normalize=True`.\n",
    "    \"\"\"\n",
    "    plt.imshow(cm, interpolation='nearest', cmap=cmap)\n",
    "    plt.title(title)\n",
    "    plt.colorbar()\n",
    "    tick_marks = np.arange(len(classes))\n",
    "    plt.xticks(tick_marks, classes, rotation=45)\n",
    "    plt.yticks(tick_marks, classes)\n",
    "\n",
    "    if normalize:\n",
    "        cm = cm.astype('float') / cm.sum(axis=1)[:, np.newaxis]\n",
    "\n",
    "    thresh = cm.max() / 2.\n",
    "    for i, j in itertools.product(range(cm.shape[0]), range(cm.shape[1])):\n",
    "        plt.text(j, i, cm[i, j],\n",
    "                 horizontalalignment=\"center\",\n",
    "                 color=\"white\" if cm[i, j] > thresh else \"black\")\n",
    "\n",
    "    plt.tight_layout()\n",
    "    plt.ylabel('True label')\n",
    "    plt.xlabel('Predicted label')\n",
    "        "
   ]
  },
  {
   "cell_type": "code",
   "execution_count": 43,
   "id": "09f26b8e-18cd-4c45-8589-c63eeec9f9e4",
   "metadata": {},
   "outputs": [],
   "source": [
    "from sklearn.metrics import accuracy_score, precision_score, classification_report\n",
    "from sklearn.metrics import confusion_matrix\n",
    "import itertools\n",
    "# compute the confusion matrix\n",
    "confusion_mtx = confusion_matrix(Y_true, Y_pred_classes) \n",
    "# plot the confusion matrix\n"
   ]
  },
  {
   "cell_type": "code",
   "execution_count": 44,
   "id": "87ba55a7-31d4-4d6b-986e-289742afb0d3",
   "metadata": {},
   "outputs": [
    {
     "data": {
      "text/plain": [
       "array([[1, 0, 0, 0, 0, 0, 0],\n",
       "       [0, 1, 0, 0, 0, 0, 0],\n",
       "       [0, 0, 1, 0, 0, 0, 0],\n",
       "       [0, 0, 0, 1, 0, 0, 0],\n",
       "       [0, 1, 0, 0, 2, 0, 0],\n",
       "       [0, 0, 0, 0, 0, 2, 0],\n",
       "       [0, 0, 0, 0, 1, 0, 2]], dtype=int64)"
      ]
     },
     "execution_count": 44,
     "metadata": {},
     "output_type": "execute_result"
    }
   ],
   "source": [
    "confusion_mtx"
   ]
  },
  {
   "cell_type": "code",
   "execution_count": 45,
   "id": "156e24a8-6d66-4f34-a93a-e766cfdf7731",
   "metadata": {},
   "outputs": [
    {
     "name": "stdout",
     "output_type": "stream",
     "text": [
      "Accuracy: 0.8333333333333334\n",
      "Precision: 0.875\n",
      "Recall: 0.8333333333333334\n",
      "F1 Score: 0.8388888888888889\n"
     ]
    }
   ],
   "source": [
    "from sklearn.metrics import accuracy_score, precision_score, recall_score, f1_score, classification_report\n",
    "\n",
    "# Assuming Y_true and Y_pred_classes are defined\n",
    "# Y_true: Actual labels\n",
    "# Y_pred_classes: Predicted labels\n",
    "\n",
    "# Compute accuracy\n",
    "accuracy = accuracy_score(Y_true, Y_pred_classes)\n",
    "print(\"Accuracy:\", accuracy)\n",
    "\n",
    "# Compute precision\n",
    "precision = precision_score(Y_true, Y_pred_classes, average='weighted')\n",
    "print(\"Precision:\", precision)\n",
    "\n",
    "# Compute recall\n",
    "recall = recall_score(Y_true, Y_pred_classes, average='weighted')\n",
    "print(\"Recall:\", recall)\n",
    "\n",
    "# Compute F1-score\n",
    "f1 = f1_score(Y_true, Y_pred_classes, average='weighted')\n",
    "print(\"F1 Score:\", f1)\n"
   ]
  },
  {
   "cell_type": "code",
   "execution_count": null,
   "id": "248d3408-b288-4e53-9a05-4cab2074263f",
   "metadata": {},
   "outputs": [],
   "source": []
  },
  {
   "cell_type": "code",
   "execution_count": null,
   "id": "6a86f3ef-23ab-4789-b87e-a76ba54230d4",
   "metadata": {},
   "outputs": [],
   "source": []
  }
 ],
 "metadata": {
  "kernelspec": {
   "display_name": "Python 3 (ipykernel)",
   "language": "python",
   "name": "python3"
  },
  "language_info": {
   "codemirror_mode": {
    "name": "ipython",
    "version": 3
   },
   "file_extension": ".py",
   "mimetype": "text/x-python",
   "name": "python",
   "nbconvert_exporter": "python",
   "pygments_lexer": "ipython3",
   "version": "3.10.16"
  }
 },
 "nbformat": 4,
 "nbformat_minor": 5
}
