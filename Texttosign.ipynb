{
 "cells": [
  {
   "cell_type": "code",
   "execution_count": 1,
   "id": "0dd1898f-7065-40a1-b977-ae2fe90bfc7d",
   "metadata": {},
   "outputs": [
    {
     "name": "stdin",
     "output_type": "stream",
     "text": [
      "Enter the text to search for a folder:  bring water\n"
     ]
    },
    {
     "name": "stdout",
     "output_type": "stream",
     "text": [
      "Best match found: bring water for me\n",
      "Opening Image: finaldataset/train\\bring water for me\\4_bring water for me (13).jpg\n"
     ]
    }
   ],
   "source": [
    "import os\n",
    "import cv2\n",
    "import difflib\n",
    "\n",
    "# Set the main directory path\n",
    "MAIN_DIR = \"finaldataset/train\"\n",
    "\n",
    "# Get all subfolders inside the main folder\n",
    "folders = [folder for folder in os.listdir(MAIN_DIR) if os.path.isdir(os.path.join(MAIN_DIR, folder))]\n",
    "\n",
    "# Function to find the best-matching folder based on text input\n",
    "def find_best_match(user_text, folder_list):\n",
    "    match = difflib.get_close_matches(user_text, folder_list, n=1, cutoff=0.5)\n",
    "    return match[0] if match else None\n",
    "\n",
    "# Get user input\n",
    "user_query = input(\"Enter the text to search for a folder: \").strip().lower()\n",
    "\n",
    "# Find the best matching folder\n",
    "matched_folder = find_best_match(user_query, folders)\n",
    "\n",
    "if matched_folder:\n",
    "    print(f\"Best match found: {matched_folder}\")\n",
    "\n",
    "    # Get the path of the matched folder\n",
    "    folder_path = os.path.join(MAIN_DIR, matched_folder)\n",
    "\n",
    "    # List all images in the matched folder\n",
    "    images = [img for img in os.listdir(folder_path) if img.lower().endswith(('.png', '.jpg', '.jpeg'))]\n",
    "\n",
    "    if images:\n",
    "        # Pick the first image\n",
    "        image_path = os.path.join(folder_path, images[0])\n",
    "        print(f\"Opening Image: {image_path}\")\n",
    "\n",
    "        # Load and show the image using OpenCV\n",
    "        image = cv2.imread(image_path)\n",
    "        cv2.imshow(\"Matched Image\", image)\n",
    "        cv2.waitKey(0)\n",
    "        cv2.destroyAllWindows()\n",
    "    else:\n",
    "        print(\"No images found in the matched folder.\")\n",
    "else:\n",
    "    print(\"No matching folder found.\")\n"
   ]
  },
  {
   "cell_type": "code",
   "execution_count": null,
   "id": "a55f9cdc-0c18-48ff-9019-50e6dd8e8d8b",
   "metadata": {},
   "outputs": [],
   "source": []
  }
 ],
 "metadata": {
  "kernelspec": {
   "display_name": "Python 3 (ipykernel)",
   "language": "python",
   "name": "python3"
  },
  "language_info": {
   "codemirror_mode": {
    "name": "ipython",
    "version": 3
   },
   "file_extension": ".py",
   "mimetype": "text/x-python",
   "name": "python",
   "nbconvert_exporter": "python",
   "pygments_lexer": "ipython3",
   "version": "3.10.16"
  }
 },
 "nbformat": 4,
 "nbformat_minor": 5
}
